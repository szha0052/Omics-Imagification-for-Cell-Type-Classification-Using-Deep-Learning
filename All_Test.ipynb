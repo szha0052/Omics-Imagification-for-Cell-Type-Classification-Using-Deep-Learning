{
 "cells": [
  {
   "cell_type": "code",
   "execution_count": 1,
   "id": "957c4395",
   "metadata": {},
   "outputs": [],
   "source": [
    "import os\n",
    "os.environ[\"CUBLAS_WORKSPACE_CONFIG\"] = \":4096:8\"\n",
    "\n",
    "import torch\n",
    "torch.use_deterministic_algorithms(True)\n",
    "import numpy as np\n",
    "import pandas as pd\n",
    "import random\n",
    "\n",
    "\n",
    "\n",
    "\n",
    "def set_seed(seed):\n",
    "    random.seed(seed)\n",
    "    np.random.seed(seed)\n",
    "    torch.manual_seed(seed)\n",
    "    torch.cuda.manual_seed_all(seed)\n",
    "    os.environ['PYTHONHASHSEED'] = str(seed)\n",
    "    torch.backends.cudnn.deterministic = True\n",
    "    torch.backends.cudnn.benchmark = False\n",
    "    torch.use_deterministic_algorithms(True)\n",
    "\n",
    "set_seed(42)"
   ]
  },
  {
   "cell_type": "code",
   "execution_count": 2,
   "id": "ddd59f14",
   "metadata": {},
   "outputs": [],
   "source": [
    "# from trainer import get_net_trainer\n",
    "# from getNETtest import NetTester\n",
    "# from getSMOTE import SmoteGenerator\n",
    "# from getPrioritizeGene import getPrioritizeGene\n",
    "# from Cart2Pixel import Cart2Pixel\n",
    "# from ConvPixel import ConvPixel\n",
    "# from sklearn.preprocessing import LabelBinarizer\n",
    "# from sklearn.preprocessing import LabelEncoder\n",
    "from model.Vec2Image_py.get_matrix import get_matrix\n",
    "from model.Vec2Image_py.trainer import get_net_trainer\n",
    "from model.Vec2Image_py.getNETtest import NetTester\n",
    "from model.Vec2Image_py.getSMOTE import SmoteGenerator\n",
    "from model.Vec2Image_py.getPrioritizeGene import getPrioritizeGene\n",
    "from model.Vec2Image_py.Cart2Pixel import Cart2Pixel\n",
    "from model.Vec2Image_py.ConvPixel import ConvPixel\n",
    "from sklearn.preprocessing import LabelBinarizer\n",
    "from sklearn.preprocessing import LabelEncoder\n",
    "\n"
   ]
  },
  {
   "cell_type": "code",
   "execution_count": 3,
   "id": "9a28a92f",
   "metadata": {},
   "outputs": [
    {
     "name": "stdout",
     "output_type": "stream",
     "text": [
      "\n",
      "Loading full gene expression dataset...\n"
     ]
    }
   ],
   "source": [
    "print(\"\\nLoading full gene expression dataset...\")\n",
    "df = pd.read_csv(\"data/deng-reads-RawCount-modefied.csv\")\n",
    "X_full = df.iloc[:, 1:].to_numpy(dtype=np.float32)\n",
    "labels_full = [col.split('.')[0] for col in df.columns[1:]]\n",
    "label_map = {label: idx for idx, label in enumerate(set(labels_full))}\n",
    "y_full = np.array([label_map[l] for l in labels_full])\n"
   ]
  },
  {
   "cell_type": "code",
   "execution_count": 4,
   "id": "d7c1a60f",
   "metadata": {},
   "outputs": [
    {
     "data": {
      "text/plain": [
       "(21297, 269)"
      ]
     },
     "execution_count": 4,
     "metadata": {},
     "output_type": "execute_result"
    }
   ],
   "source": [
    "df.shape"
   ]
  },
  {
   "cell_type": "code",
   "execution_count": 5,
   "id": "9de01d0d",
   "metadata": {},
   "outputs": [],
   "source": [
    "\n",
    "dset = {\n",
    "    'Xtrain': X_full,\n",
    "    'train_labels': y_full.astype(int),\n",
    "}\n",
    "\n",
    "Parm = {\n",
    "    'Method': 'tSNE',\n",
    "    'Max_Px_Size': 30,\n",
    "    'MPS_Fix': 1,\n",
    "    'ValidRatio': 0.2,\n",
    "    'Seed': 42,\n",
    "    'NORM': 1\n",
    "}\n"
   ]
  },
  {
   "cell_type": "code",
   "execution_count": 6,
   "id": "84c416ee",
   "metadata": {},
   "outputs": [
    {
     "name": "stdout",
     "output_type": "stream",
     "text": [
      "\n",
      "Running get_matrix...\n",
      "\n",
      "NORM-1\n",
      "Applying PCA dimensionality reduction...\n"
     ]
    },
    {
     "name": "stderr",
     "output_type": "stream",
     "text": [
      "d:\\CodeOfStudy\\COMP5703\\Code\\Omics-Imagification-for-Cell-Type-Classification-Using-Deep-Learning-main\\model\\Vec2Image_py\\get_matrix.py:48: RuntimeWarning: invalid value encountered in divide\n",
      "  dset['Xtrain'] = (dset['Xtrain'] - Out['Min']) / (Out['Max'] - Out['Min'])\n",
      "d:\\CodeOfStudy\\COMP5703\\Code\\Omics-Imagification-for-Cell-Type-Classification-Using-Deep-Learning-main\\model\\Vec2Image_py\\get_matrix.py:49: RuntimeWarning: divide by zero encountered in divide\n",
      "  dset['XValidation'] = (dset['XValidation'] - Out['Min']) / (Out['Max'] - Out['Min'])\n",
      "d:\\CodeOfStudy\\COMP5703\\Code\\Omics-Imagification-for-Cell-Type-Classification-Using-Deep-Learning-main\\model\\Vec2Image_py\\get_matrix.py:49: RuntimeWarning: invalid value encountered in divide\n",
      "  dset['XValidation'] = (dset['XValidation'] - Out['Min']) / (Out['Max'] - Out['Min'])\n"
     ]
    },
    {
     "name": "stdout",
     "output_type": "stream",
     "text": [
      "tSNE with exact algorithm is used\n",
      "\n",
      " Pixels: 31 x 31\n",
      "\n",
      "Applying SMOTE...\n",
      "\n",
      "Testing ConvPixel...\n",
      "Image shape: (31, 31)\n"
     ]
    }
   ],
   "source": [
    "\n",
    "print(\"\\nRunning get_matrix...\")\n",
    "Out = get_matrix(dset, Parm)\n",
    "\n",
    "print(\"\\nApplying SMOTE...\")\n",
    "smote = SmoteGenerator(dset['Xtrain'].T, dset['train_labels'], seed=42)\n",
    "X_aug, y_aug = smote.fit_resample()\n",
    "X_aug = X_aug.T\n",
    "\n",
    "print(\"\\nTesting ConvPixel...\")\n",
    "sample_vec = dset['Xtrain'][:, 0]\n",
    "image = ConvPixel(sample_vec, dset['xp'], dset['yp'], dset['A'], dset['B'], dset['Base'])\n",
    "print(\"Image shape:\", image.shape)\n",
    "\n",
    "# lb = LabelBinarizer()\n",
    "# y_train_oh = lb.fit_transform(y_aug)\n",
    "# y_val_oh = lb.transform(dset['Validation_labels'])\n",
    "# dset['label_encoder'] = lb\n",
    "\n",
    "le = LabelEncoder()\n",
    "y_aug_int = le.fit_transform(y_aug)\n",
    "y_val_int = le.transform(dset['Validation_labels'])\n",
    "\n",
    "# One-hot 编码\n",
    "y_train_oh = np.eye(len(le.classes_))[y_aug_int]\n",
    "y_val_oh = np.eye(len(le.classes_))[y_val_int]\n",
    "dset['label_encoder'] = le\n"
   ]
  },
  {
   "cell_type": "code",
   "execution_count": 9,
   "id": "75ada25f",
   "metadata": {},
   "outputs": [
    {
     "data": {
      "text/plain": [
       "((673, 6), (51, 6))"
      ]
     },
     "execution_count": 9,
     "metadata": {},
     "output_type": "execute_result"
    }
   ],
   "source": [
    "y_train_oh.shape, y_val_oh.shape"
   ]
  },
  {
   "cell_type": "code",
   "execution_count": 6,
   "id": "4d639d6e",
   "metadata": {},
   "outputs": [
    {
     "name": "stdout",
     "output_type": "stream",
     "text": [
      "\n",
      "Converting augmented data to images...\n"
     ]
    }
   ],
   "source": [
    "print(\"\\nConverting augmented data to images...\")\n",
    "X_train_imgs = np.zeros((X_aug.shape[1], 1, dset['A'], dset['B']), dtype=np.float32)\n",
    "for i in range(X_aug.shape[1]):\n",
    "    fvec = X_aug[:, i][Out['feature_order']] \n",
    "    X_train_imgs[i, 0, :, :] = ConvPixel(fvec, dset['xp'], dset['yp'], dset['A'], dset['B'], dset['Base'], 0)\n",
    "\n",
    "X_val_imgs = dset['XValidation'].transpose(3, 2, 0, 1)\n"
   ]
  },
  {
   "cell_type": "code",
   "execution_count": 7,
   "id": "bdb61cb0",
   "metadata": {},
   "outputs": [
    {
     "name": "stdout",
     "output_type": "stream",
     "text": [
      "\n",
      "Training model...\n",
      "Epoch 01: Loss=34.3109 | Train Acc=35.66% | Val Acc=25.49%\n",
      "Epoch 02: Loss=26.8006 | Train Acc=51.71% | Val Acc=35.29%\n",
      "Epoch 03: Loss=20.1979 | Train Acc=66.42% | Val Acc=39.22%\n",
      "Epoch 04: Loss=15.5361 | Train Acc=84.70% | Val Acc=39.22%\n",
      "Epoch 05: Loss=11.5180 | Train Acc=90.94% | Val Acc=74.51%\n",
      "Epoch 06: Loss=9.6048 | Train Acc=88.41% | Val Acc=90.20%\n",
      "Epoch 07: Loss=7.1850 | Train Acc=95.54% | Val Acc=94.12%\n",
      "Epoch 08: Loss=5.1552 | Train Acc=96.14% | Val Acc=90.20%\n",
      "Epoch 09: Loss=5.5258 | Train Acc=95.25% | Val Acc=96.08%\n",
      "Epoch 10: Loss=4.4546 | Train Acc=98.37% | Val Acc=96.08%\n",
      "Epoch 11: Loss=3.9138 | Train Acc=98.51% | Val Acc=96.08%\n",
      "Epoch 12: Loss=3.9541 | Train Acc=98.66% | Val Acc=96.08%\n",
      "Epoch 13: Loss=2.9025 | Train Acc=99.11% | Val Acc=94.12%\n",
      "Epoch 14: Loss=2.9146 | Train Acc=98.37% | Val Acc=98.04%\n",
      "Epoch 15: Loss=3.3790 | Train Acc=98.81% | Val Acc=96.08%\n",
      "Epoch 16: Loss=2.7204 | Train Acc=99.41% | Val Acc=98.04%\n",
      "Epoch 17: Loss=0.8808 | Train Acc=99.85% | Val Acc=96.08%\n",
      "Epoch 18: Loss=3.8707 | Train Acc=99.11% | Val Acc=94.12%\n",
      "Epoch 19: Loss=4.1493 | Train Acc=99.11% | Val Acc=96.08%\n",
      "Epoch 20: Loss=2.8366 | Train Acc=99.55% | Val Acc=96.08%\n"
     ]
    }
   ],
   "source": [
    "\n",
    "print(\"\\nTraining model...\")\n",
    "model, train_loader, val_loader, criterion, optimizer, device = get_net_trainer(\n",
    "    X_train_imgs, y_train_oh,\n",
    "    X_val_imgs, y_val_oh\n",
    ")\n"
   ]
  },
  {
   "cell_type": "code",
   "execution_count": 8,
   "id": "e23321a4",
   "metadata": {},
   "outputs": [],
   "source": [
    "Out.update({\n",
    "    'model': {'net': model}\n",
    "})\n",
    "\n",
    "# n_val = dset['XValidation'].shape[3]\n",
    "# dset['Xtest'] = Out['ValidationRawdata'][:, :n_val]\n",
    "# dset['test_labels'] = dset['Validation_labels'][:n_val]  \n",
    "\n"
   ]
  },
  {
   "cell_type": "code",
   "execution_count": 9,
   "id": "f7c4a500",
   "metadata": {},
   "outputs": [
    {
     "name": "stdout",
     "output_type": "stream",
     "text": [
      "\n",
      "Using Norm-1 ...\n",
      "\n",
      "Test accuracy: 96.08%\n",
      "XP hash: 8795343342413000627\n",
      "YP hash: 7626115951859486666\n",
      "Test Out XP hash: 8795343342413000627\n",
      "First few test labels: [0 0 0 0 0]\n",
      "Xtest shape: (100, 51)\n"
     ]
    }
   ],
   "source": [
    "X_val_raw = Out['ValidationRawdata']  \n",
    "X_val_raw = np.nan_to_num(X_val_raw) \n",
    "\n",
    "X_val_raw_T = X_val_raw.T  \n",
    "X_val_pca = Out['pca'].transform(X_val_raw_T)  \n",
    "dset['Xtest'] = X_val_pca.T \n",
    "\n",
    "n_val = dset['Xtest'].shape[1]\n",
    "dset['test_labels'] = Out['ValidationLabelsOrdered'][:n_val]\n",
    "\n",
    "tester = NetTester(dset, Out, device='cpu')\n",
    "acc, XTest_tensor, Y_pred = tester.run_test()\n",
    "print(f\"\\nTest accuracy: {acc:.2%}\")\n",
    "\n",
    "\n",
    "print(\"XP hash:\", hash(tuple(dset['xp'])))\n",
    "print(\"YP hash:\", hash(tuple(dset['yp'])))\n",
    "print(\"Test Out XP hash:\", hash(tuple(Out['xp'])))\n",
    "\n",
    "#gene_rank = getPrioritizeGene(dset, Out, k=5)\n",
    "#print(\"Gene ranking shape:\", gene_rank.shape)\n",
    "print(\"First few test labels:\", dset['test_labels'][:5])\n",
    "print(\"Xtest shape:\", dset['Xtest'].shape)\n"
   ]
  },
  {
   "cell_type": "code",
   "execution_count": 65,
   "id": "d412157a",
   "metadata": {},
   "outputs": [],
   "source": [
    "import numpy as np\n",
    "from sklearn.neighbors import NearestNeighbors\n",
    "\n",
    "# 假设ConvPixel和模型分类函数已提前定义好\n",
    "def get_prioritize_gene(dest, Out, k, device='cpu'):\n",
    "    if Out['Norm'] == 1:\n",
    "        print('\\nNORM-1\\n')\n",
    "        Out['Max'] = np.max(dest['Xtest'], axis=1, keepdims=True)\n",
    "        Out['Min'] = np.min(dest['Xtest'], axis=1, keepdims=True)\n",
    "        dest['Xtest'] = (dest['Xtest'] - Out['Min']) / (Out['Max'] - Out['Min'])\n",
    "        dest['Xtest'][np.isnan(dest['Xtest'])] = 0\n",
    "\n",
    "    elif Out['Norm'] == 2:\n",
    "        print('\\nNORM-2\\n')\n",
    "        Out['Min'] = np.min(dest['Xtest'], axis=1, keepdims=True)\n",
    "        dest['Xtest'] = np.log(dest['Xtest'] + np.abs(Out['Min']) + 1)\n",
    "        Out['Max'] = np.max(dest['Xtest'])\n",
    "        dest['Xtest'] = dest['Xtest'] / Out['Max']\n",
    "\n",
    "    countgene = min(dest['Xtest'].shape[0], len(Out['xp']), len(Out['yp']))\n",
    "    error = np.zeros(countgene)\n",
    "\n",
    "    for i in range(countgene):\n",
    "        shuffledata = np.copy(dest['Xtest'])\n",
    "        neigh = NearestNeighbors(n_neighbors=k, p=5, metric='minkowski')\n",
    "        neigh.fit(np.column_stack((Out['xp'], Out['yp'])))\n",
    "        mIdx = neigh.kneighbors([[Out['xp'][i], Out['yp'][i]]], return_distance=False)[0]\n",
    "        mIdx = mIdx[mIdx < shuffledata.shape[0]]  # 额外保险措施\n",
    "        shuffledata[mIdx, :] = 1\n",
    "\n",
    "        num_test_labels = len(dest['test_labels'])\n",
    "        sample_pixel = ConvPixel(shuffledata[:, 0], Out['xp'], Out['yp'], Out['A'], Out['B'], Out['Base'], 0)\n",
    "        height, width = sample_pixel.shape\n",
    "        M = np.zeros((height, width, 1, num_test_labels))\n",
    "\n",
    "        M[:, :, 0, 0] = sample_pixel\n",
    "\n",
    "        for j in range(1, num_test_labels):\n",
    "            M[:, :, 0, j] = ConvPixel(shuffledata[:, j], Out['xp'], Out['yp'], Out['A'], Out['B'], Out['Base'], 0)\n",
    "\n",
    "        print(M.shape)\n",
    "        X_test_tensor = torch.from_numpy(M).permute(3, 2, 0, 1).float().to(device)\n",
    "\n",
    "        Y_test_tensor = torch.from_numpy(dest['test_labels']).long().to(device)\n",
    "\n",
    "        Y_pred = Out['model']['net'](X_test_tensor)\n",
    "        Y_pred = torch.argmax(Y_pred, dim=1).cpu().numpy()\n",
    "\n",
    "        valError = np.mean(Y_pred == dest['test_labels'])\n",
    "\n",
    "\n",
    "        error[i] = valError\n",
    "        print(f'the running gene number is {i}')\n",
    "\n",
    "    GeneRank = error\n",
    "    return GeneRank\n"
   ]
  },
  {
   "cell_type": "code",
   "execution_count": 66,
   "id": "ceafac8a",
   "metadata": {},
   "outputs": [
    {
     "name": "stdout",
     "output_type": "stream",
     "text": [
      "\n",
      "NORM-1\n",
      "\n",
      "(31, 31, 1, 51)\n",
      "the running gene number is 0\n",
      "(31, 31, 1, 51)\n",
      "the running gene number is 1\n",
      "(31, 31, 1, 51)\n",
      "the running gene number is 2\n",
      "(31, 31, 1, 51)\n",
      "the running gene number is 3\n",
      "(31, 31, 1, 51)\n",
      "the running gene number is 4\n",
      "(31, 31, 1, 51)\n",
      "the running gene number is 5\n",
      "(31, 31, 1, 51)\n",
      "the running gene number is 6\n",
      "(31, 31, 1, 51)\n",
      "the running gene number is 7\n",
      "(31, 31, 1, 51)\n",
      "the running gene number is 8\n",
      "(31, 31, 1, 51)\n",
      "the running gene number is 9\n",
      "(31, 31, 1, 51)\n",
      "the running gene number is 10\n",
      "(31, 31, 1, 51)\n",
      "the running gene number is 11\n",
      "(31, 31, 1, 51)\n",
      "the running gene number is 12\n",
      "(31, 31, 1, 51)\n",
      "the running gene number is 13\n",
      "(31, 31, 1, 51)\n",
      "the running gene number is 14\n",
      "(31, 31, 1, 51)\n",
      "the running gene number is 15\n",
      "(31, 31, 1, 51)\n",
      "the running gene number is 16\n",
      "(31, 31, 1, 51)\n",
      "the running gene number is 17\n",
      "(31, 31, 1, 51)\n",
      "the running gene number is 18\n",
      "(31, 31, 1, 51)\n",
      "the running gene number is 19\n",
      "(31, 31, 1, 51)\n",
      "the running gene number is 20\n",
      "(31, 31, 1, 51)\n",
      "the running gene number is 21\n",
      "(31, 31, 1, 51)\n",
      "the running gene number is 22\n",
      "(31, 31, 1, 51)\n",
      "the running gene number is 23\n",
      "(31, 31, 1, 51)\n",
      "the running gene number is 24\n",
      "(31, 31, 1, 51)\n",
      "the running gene number is 25\n",
      "(31, 31, 1, 51)\n",
      "the running gene number is 26\n",
      "(31, 31, 1, 51)\n",
      "the running gene number is 27\n",
      "(31, 31, 1, 51)\n",
      "the running gene number is 28\n",
      "(31, 31, 1, 51)\n",
      "the running gene number is 29\n",
      "(31, 31, 1, 51)\n",
      "the running gene number is 30\n",
      "(31, 31, 1, 51)\n",
      "the running gene number is 31\n",
      "(31, 31, 1, 51)\n",
      "the running gene number is 32\n",
      "(31, 31, 1, 51)\n",
      "the running gene number is 33\n",
      "(31, 31, 1, 51)\n",
      "the running gene number is 34\n",
      "(31, 31, 1, 51)\n",
      "the running gene number is 35\n",
      "(31, 31, 1, 51)\n",
      "the running gene number is 36\n",
      "(31, 31, 1, 51)\n",
      "the running gene number is 37\n",
      "(31, 31, 1, 51)\n",
      "the running gene number is 38\n",
      "(31, 31, 1, 51)\n",
      "the running gene number is 39\n",
      "(31, 31, 1, 51)\n",
      "the running gene number is 40\n",
      "(31, 31, 1, 51)\n",
      "the running gene number is 41\n",
      "(31, 31, 1, 51)\n",
      "the running gene number is 42\n",
      "(31, 31, 1, 51)\n",
      "the running gene number is 43\n",
      "(31, 31, 1, 51)\n",
      "the running gene number is 44\n",
      "(31, 31, 1, 51)\n",
      "the running gene number is 45\n",
      "(31, 31, 1, 51)\n",
      "the running gene number is 46\n",
      "(31, 31, 1, 51)\n",
      "the running gene number is 47\n",
      "(31, 31, 1, 51)\n",
      "the running gene number is 48\n",
      "(31, 31, 1, 51)\n",
      "the running gene number is 49\n",
      "(31, 31, 1, 51)\n",
      "the running gene number is 50\n",
      "(31, 31, 1, 51)\n",
      "the running gene number is 51\n",
      "(31, 31, 1, 51)\n",
      "the running gene number is 52\n",
      "(31, 31, 1, 51)\n",
      "the running gene number is 53\n",
      "(31, 31, 1, 51)\n",
      "the running gene number is 54\n",
      "(31, 31, 1, 51)\n",
      "the running gene number is 55\n",
      "(31, 31, 1, 51)\n",
      "the running gene number is 56\n",
      "(31, 31, 1, 51)\n",
      "the running gene number is 57\n",
      "(31, 31, 1, 51)\n",
      "the running gene number is 58\n",
      "(31, 31, 1, 51)\n",
      "the running gene number is 59\n",
      "(31, 31, 1, 51)\n",
      "the running gene number is 60\n",
      "(31, 31, 1, 51)\n",
      "the running gene number is 61\n",
      "(31, 31, 1, 51)\n",
      "the running gene number is 62\n",
      "(31, 31, 1, 51)\n",
      "the running gene number is 63\n",
      "(31, 31, 1, 51)\n",
      "the running gene number is 64\n",
      "(31, 31, 1, 51)\n",
      "the running gene number is 65\n",
      "(31, 31, 1, 51)\n",
      "the running gene number is 66\n",
      "(31, 31, 1, 51)\n",
      "the running gene number is 67\n",
      "(31, 31, 1, 51)\n",
      "the running gene number is 68\n",
      "(31, 31, 1, 51)\n",
      "the running gene number is 69\n",
      "(31, 31, 1, 51)\n",
      "the running gene number is 70\n",
      "(31, 31, 1, 51)\n",
      "the running gene number is 71\n",
      "(31, 31, 1, 51)\n",
      "the running gene number is 72\n",
      "(31, 31, 1, 51)\n",
      "the running gene number is 73\n",
      "(31, 31, 1, 51)\n",
      "the running gene number is 74\n",
      "(31, 31, 1, 51)\n",
      "the running gene number is 75\n",
      "(31, 31, 1, 51)\n",
      "the running gene number is 76\n",
      "(31, 31, 1, 51)\n",
      "the running gene number is 77\n",
      "(31, 31, 1, 51)\n",
      "the running gene number is 78\n",
      "(31, 31, 1, 51)\n",
      "the running gene number is 79\n",
      "(31, 31, 1, 51)\n",
      "the running gene number is 80\n",
      "(31, 31, 1, 51)\n",
      "the running gene number is 81\n",
      "(31, 31, 1, 51)\n",
      "the running gene number is 82\n",
      "(31, 31, 1, 51)\n",
      "the running gene number is 83\n",
      "(31, 31, 1, 51)\n",
      "the running gene number is 84\n",
      "(31, 31, 1, 51)\n",
      "the running gene number is 85\n",
      "(31, 31, 1, 51)\n",
      "the running gene number is 86\n",
      "(31, 31, 1, 51)\n",
      "the running gene number is 87\n",
      "(31, 31, 1, 51)\n",
      "the running gene number is 88\n",
      "(31, 31, 1, 51)\n",
      "the running gene number is 89\n",
      "(31, 31, 1, 51)\n",
      "the running gene number is 90\n",
      "(31, 31, 1, 51)\n",
      "the running gene number is 91\n",
      "(31, 31, 1, 51)\n",
      "the running gene number is 92\n",
      "(31, 31, 1, 51)\n",
      "the running gene number is 93\n",
      "(31, 31, 1, 51)\n",
      "the running gene number is 94\n",
      "(31, 31, 1, 51)\n",
      "the running gene number is 95\n",
      "(31, 31, 1, 51)\n",
      "the running gene number is 96\n",
      "(31, 31, 1, 51)\n",
      "the running gene number is 97\n",
      "(31, 31, 1, 51)\n",
      "the running gene number is 98\n",
      "(31, 31, 1, 51)\n",
      "the running gene number is 99\n"
     ]
    }
   ],
   "source": [
    "GeneRank = get_prioritize_gene(dset, Out, k=5)"
   ]
  },
  {
   "cell_type": "code",
   "execution_count": 67,
   "id": "0c8fdb8d",
   "metadata": {},
   "outputs": [
    {
     "data": {
      "text/plain": [
       "array([0.19607843, 0.19607843, 0.21568627, 0.21568627, 0.19607843,\n",
       "       0.21568627, 0.19607843, 0.19607843, 0.21568627, 0.21568627,\n",
       "       0.21568627, 0.21568627, 0.21568627, 0.21568627, 0.19607843,\n",
       "       0.21568627, 0.21568627, 0.21568627, 0.19607843, 0.21568627,\n",
       "       0.21568627, 0.19607843, 0.21568627, 0.21568627, 0.21568627,\n",
       "       0.21568627, 0.21568627, 0.21568627, 0.21568627, 0.21568627,\n",
       "       0.21568627, 0.19607843, 0.21568627, 0.21568627, 0.21568627,\n",
       "       0.21568627, 0.21568627, 0.21568627, 0.21568627, 0.19607843,\n",
       "       0.19607843, 0.19607843, 0.19607843, 0.19607843, 0.19607843,\n",
       "       0.19607843, 0.19607843, 0.19607843, 0.19607843, 0.19607843,\n",
       "       0.19607843, 0.19607843, 0.21568627, 0.21568627, 0.21568627,\n",
       "       0.23529412, 0.21568627, 0.21568627, 0.21568627, 0.21568627,\n",
       "       0.21568627, 0.19607843, 0.21568627, 0.21568627, 0.21568627,\n",
       "       0.21568627, 0.21568627, 0.21568627, 0.21568627, 0.21568627,\n",
       "       0.21568627, 0.21568627, 0.21568627, 0.21568627, 0.21568627,\n",
       "       0.19607843, 0.19607843, 0.21568627, 0.19607843, 0.19607843,\n",
       "       0.19607843, 0.19607843, 0.21568627, 0.21568627, 0.21568627,\n",
       "       0.21568627, 0.21568627, 0.21568627, 0.21568627, 0.21568627,\n",
       "       0.21568627, 0.21568627, 0.21568627, 0.21568627, 0.21568627,\n",
       "       0.21568627, 0.21568627, 0.21568627, 0.21568627, 0.21568627])"
      ]
     },
     "execution_count": 67,
     "metadata": {},
     "output_type": "execute_result"
    }
   ],
   "source": [
    "GeneRank"
   ]
  },
  {
   "cell_type": "code",
   "execution_count": 69,
   "id": "09f1b6d3",
   "metadata": {},
   "outputs": [
    {
     "name": "stdout",
     "output_type": "stream",
     "text": [
      "Top 5 genes: [0 1 6 4 7]\n"
     ]
    }
   ],
   "source": [
    "# 挑选出前5个基因\n",
    "top_k_indices = np.argsort(GeneRank)[:5]\n",
    "\n",
    "print(\"Top 5 genes:\", top_k_indices)\n"
   ]
  },
  {
   "cell_type": "code",
   "execution_count": null,
   "id": "75fbae48",
   "metadata": {},
   "outputs": [],
   "source": []
  }
 ],
 "metadata": {
  "kernelspec": {
   "display_name": "CXXA1",
   "language": "python",
   "name": "python3"
  },
  "language_info": {
   "codemirror_mode": {
    "name": "ipython",
    "version": 3
   },
   "file_extension": ".py",
   "mimetype": "text/x-python",
   "name": "python",
   "nbconvert_exporter": "python",
   "pygments_lexer": "ipython3",
   "version": "3.10.16"
  }
 },
 "nbformat": 4,
 "nbformat_minor": 5
}
